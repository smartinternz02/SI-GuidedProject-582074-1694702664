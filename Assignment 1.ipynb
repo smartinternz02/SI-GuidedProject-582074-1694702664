{
 "cells": [
  {
   "cell_type": "code",
   "execution_count": 1,
   "id": "712f4903-e759-41ce-a7e7-e2c5df4de86a",
   "metadata": {},
   "outputs": [
    {
     "name": "stdout",
     "output_type": "stream",
     "text": [
      "     feature1    feature2    feature3    feature4    feature5\n",
      "0  obs0_feat1  obs0_feat2  obs0_feat3  obs0_feat4  obs0_feat5\n",
      "1  obs1_feat1  obs1_feat2  obs1_feat3  obs1_feat4  obs1_feat5\n",
      "2  obs2_feat1  obs2_feat2  obs2_feat3  obs2_feat4  obs2_feat5\n",
      "3  obs3_feat1  obs3_feat2  obs3_feat3  obs3_feat4  obs3_feat5\n",
      "4  obs4_feat1  obs4_feat2  obs4_feat3  obs4_feat4  obs4_feat5\n",
      "5  obs5_feat1  obs5_feat2  obs5_feat3  obs5_feat4  obs5_feat5\n",
      "6  obs6_feat1  obs6_feat2  obs6_feat3  obs6_feat4  obs6_feat5\n",
      "7  obs7_feat1  obs7_feat2  obs7_feat3  obs7_feat4  obs7_feat5\n",
      "8  obs8_feat1  obs8_feat2  obs8_feat3  obs8_feat4  obs8_feat5\n",
      "9  obs9_feat1  obs9_feat2  obs9_feat3  obs9_feat4  obs9_feat5\n",
      "          feature1    feature2    feature3    feature4    feature5\n",
      "count           10          10          10          10          10\n",
      "unique          10          10          10          10          10\n",
      "top     obs0_feat1  obs0_feat2  obs0_feat3  obs0_feat4  obs0_feat5\n",
      "freq             1           1           1           1           1\n",
      "feature1    obs3_feat1\n",
      "feature2    obs3_feat2\n",
      "feature3    obs3_feat3\n",
      "feature4    obs3_feat4\n",
      "feature5    obs3_feat5\n",
      "Name: 3, dtype: object\n",
      "feature1    0\n",
      "feature2    0\n",
      "feature3    0\n",
      "feature4    0\n",
      "feature5    0\n",
      "dtype: int64\n"
     ]
    }
   ],
   "source": [
    "import pandas as pd\n",
    "\n",
    "df = pd.DataFrame(columns=['feature1', 'feature2', 'feature3', 'feature4', 'feature5'])\n",
    "\n",
    "for i in range(10):\n",
    "    df.loc[i] = [f'obs{i}_feat{j}' for j in range(1,6)] \n",
    "\n",
    "print(df)\n",
    "print(df.describe())\n",
    "print(df.loc[3])\n",
    "print(df.isnull().sum())"
   ]
  }
 ],
 "metadata": {
  "kernelspec": {
   "display_name": "Python 3 (ipykernel)",
   "language": "python",
   "name": "python3"
  },
  "language_info": {
   "codemirror_mode": {
    "name": "ipython",
    "version": 3
   },
   "file_extension": ".py",
   "mimetype": "text/x-python",
   "name": "python",
   "nbconvert_exporter": "python",
   "pygments_lexer": "ipython3",
   "version": "3.11.5"
  }
 },
 "nbformat": 4,
 "nbformat_minor": 5
}
